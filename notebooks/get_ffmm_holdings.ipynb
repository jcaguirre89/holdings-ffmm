{
  "nbformat": 4,
  "nbformat_minor": 0,
  "metadata": {
    "kernelspec": {
      "display_name": "Python 3",
      "language": "python",
      "name": "python3"
    },
    "language_info": {
      "codemirror_mode": {
        "name": "ipython",
        "version": 3
      },
      "file_extension": ".py",
      "mimetype": "text/x-python",
      "name": "python",
      "nbconvert_exporter": "python",
      "pygments_lexer": "ipython3",
      "version": "3.6.8"
    },
    "colab": {
      "name": "get_ffmm_holdings.ipynb",
      "version": "0.3.2",
      "provenance": [],
      "include_colab_link": true
    }
  },
  "cells": [
    {
      "cell_type": "markdown",
      "metadata": {
        "id": "view-in-github",
        "colab_type": "text"
      },
      "source": [
        "<a href=\"https://colab.research.google.com/github/jcaguirre89/holdings-ffmm/blob/master/notebooks/get_ffmm_holdings.ipynb\" target=\"_parent\"><img src=\"https://colab.research.google.com/assets/colab-badge.svg\" alt=\"Open In Colab\"/></a>"
      ]
    },
    {
      "cell_type": "code",
      "metadata": {
        "id": "qjWGoIkt7FaC",
        "colab_type": "code",
        "colab": {}
      },
      "source": [
        "import requests\n",
        "import pandas as pd\n",
        "from io import StringIO\n"
      ],
      "execution_count": 0,
      "outputs": []
    },
    {
      "cell_type": "code",
      "metadata": {
        "id": "W5DLiedU7FaG",
        "colab_type": "code",
        "colab": {}
      },
      "source": [
        "URL = 'http://www.cmfchile.cl/institucional/estadisticas/ffm_download.php'"
      ],
      "execution_count": 0,
      "outputs": []
    },
    {
      "cell_type": "code",
      "metadata": {
        "id": "8hau71N18qlK",
        "colab_type": "code",
        "colab": {}
      },
      "source": [
        "strr = 'A change'"
      ],
      "execution_count": 0,
      "outputs": []
    },
    {
      "cell_type": "code",
      "metadata": {
        "id": "dhtDSONd7FaK",
        "colab_type": "code",
        "colab": {}
      },
      "source": [
        "s = requests.Session()"
      ],
      "execution_count": 0,
      "outputs": []
    },
    {
      "cell_type": "code",
      "metadata": {
        "id": "iaB8QDU_7FaO",
        "colab_type": "code",
        "colab": {}
      },
      "source": [
        "body = {'aa': '2007', 'mm': '01', 'cartera': 'EXTR'}"
      ],
      "execution_count": 0,
      "outputs": []
    },
    {
      "cell_type": "code",
      "metadata": {
        "id": "YLYdjJqR7FaQ",
        "colab_type": "code",
        "colab": {}
      },
      "source": [
        "# requests without user-agent in headers are forbidden\n",
        "headers = {'User-Agent': 'Mozilla/5.0 (Macintosh; Intel Mac OS X 10_11_5) AppleWebKit/537.36 (KHTML, like Gecko) Chrome/50.0.2661.102 Safari/537.36'}\n",
        "resp = s.post(URL, data=body, headers=headers)"
      ],
      "execution_count": 0,
      "outputs": []
    },
    {
      "cell_type": "code",
      "metadata": {
        "id": "Q-YiaFve7FaY",
        "colab_type": "code",
        "colab": {
          "base_uri": "https://localhost:8080/",
          "height": 163
        },
        "outputId": "d9a6c21b-b2df-48c1-e150-5dd2fc4069dc"
      },
      "source": [
        "data = resp.content.decode('utf-8-sig')"
      ],
      "execution_count": 3,
      "outputs": [
        {
          "output_type": "error",
          "ename": "NameError",
          "evalue": "ignored",
          "traceback": [
            "\u001b[0;31m---------------------------------------------------------------------------\u001b[0m",
            "\u001b[0;31mNameError\u001b[0m                                 Traceback (most recent call last)",
            "\u001b[0;32m<ipython-input-3-04316011d652>\u001b[0m in \u001b[0;36m<module>\u001b[0;34m()\u001b[0m\n\u001b[0;32m----> 1\u001b[0;31m \u001b[0mdata\u001b[0m \u001b[0;34m=\u001b[0m \u001b[0mresp\u001b[0m\u001b[0;34m.\u001b[0m\u001b[0mcontent\u001b[0m\u001b[0;34m.\u001b[0m\u001b[0mdecode\u001b[0m\u001b[0;34m(\u001b[0m\u001b[0;34m'utf-8-sig'\u001b[0m\u001b[0;34m)\u001b[0m\u001b[0;34m\u001b[0m\u001b[0;34m\u001b[0m\u001b[0m\n\u001b[0m",
            "\u001b[0;31mNameError\u001b[0m: name 'resp' is not defined"
          ]
        }
      ]
    },
    {
      "cell_type": "code",
      "metadata": {
        "id": "hxBIKdJ-7Fab",
        "colab_type": "code",
        "colab": {}
      },
      "source": [
        "df = pd.read_csv(StringIO(data), sep=';')"
      ],
      "execution_count": 0,
      "outputs": []
    },
    {
      "cell_type": "code",
      "metadata": {
        "id": "b45FJ-og7Fae",
        "colab_type": "code",
        "colab": {},
        "outputId": "747b6e20-f844-41e3-ae69-b7fe26c6f3ae"
      },
      "source": [
        "df.shape"
      ],
      "execution_count": 0,
      "outputs": [
        {
          "output_type": "execute_result",
          "data": {
            "text/plain": [
              "(4648, 24)"
            ]
          },
          "metadata": {
            "tags": []
          },
          "execution_count": 73
        }
      ]
    },
    {
      "cell_type": "code",
      "metadata": {
        "id": "V2Y5rJtN7Fai",
        "colab_type": "code",
        "colab": {}
      },
      "source": [
        "df.rename(columns=columns_EXTR, inplace=True)"
      ],
      "execution_count": 0,
      "outputs": []
    },
    {
      "cell_type": "code",
      "metadata": {
        "id": "lsX5c1177Fal",
        "colab_type": "code",
        "colab": {},
        "outputId": "c18299cc-d488-44ce-81d8-bdcc6ea63adf"
      },
      "source": [
        "df.sample(5)"
      ],
      "execution_count": 0,
      "outputs": [
        {
          "output_type": "execute_result",
          "data": {
            "text/html": [
              "<div>\n",
              "<style scoped>\n",
              "    .dataframe tbody tr th:only-of-type {\n",
              "        vertical-align: middle;\n",
              "    }\n",
              "\n",
              "    .dataframe tbody tr th {\n",
              "        vertical-align: top;\n",
              "    }\n",
              "\n",
              "    .dataframe thead th {\n",
              "        text-align: right;\n",
              "    }\n",
              "</style>\n",
              "<table border=\"1\" class=\"dataframe\">\n",
              "  <thead>\n",
              "    <tr style=\"text-align: right;\">\n",
              "      <th></th>\n",
              "      <th>run_fondo</th>\n",
              "      <th>nombre_fondo</th>\n",
              "      <th>nemotecnico</th>\n",
              "      <th>nombre_emisor</th>\n",
              "      <th>pais_emisor</th>\n",
              "      <th>tipo_instrumento</th>\n",
              "      <th>fecha_vencimiento_instrumento</th>\n",
              "      <th>situacion_instrumento</th>\n",
              "      <th>clasificacion_riesgo</th>\n",
              "      <th>codigo_grupo_empresarial</th>\n",
              "      <th>...</th>\n",
              "      <th>valor_relevante</th>\n",
              "      <th>codigo_valorizacion</th>\n",
              "      <th>base_tasa</th>\n",
              "      <th>tipo_interes</th>\n",
              "      <th>valorizacion_al_cierre_en_miles</th>\n",
              "      <th>codigo_moneda_valorizacion</th>\n",
              "      <th>codigo_pais_transaccion</th>\n",
              "      <th>porcentaje_capital_emisor</th>\n",
              "      <th>porcentaje_activos_emisor</th>\n",
              "      <th>porcentaje_activos_fondo</th>\n",
              "    </tr>\n",
              "  </thead>\n",
              "  <tbody>\n",
              "    <tr>\n",
              "      <th>3735</th>\n",
              "      <td>8823</td>\n",
              "      <td>LOCAL EMERGING DEBT</td>\n",
              "      <td>PEP01000C4G7</td>\n",
              "      <td>BANCO CENTRAL DE PERU</td>\n",
              "      <td>PE</td>\n",
              "      <td>BEBCE</td>\n",
              "      <td>12/08/2031</td>\n",
              "      <td>1</td>\n",
              "      <td>A</td>\n",
              "      <td>NaN</td>\n",
              "      <td>...</td>\n",
              "      <td>NaN</td>\n",
              "      <td>1</td>\n",
              "      <td>365</td>\n",
              "      <td>RC</td>\n",
              "      <td>244</td>\n",
              "      <td>PEN</td>\n",
              "      <td>PE</td>\n",
              "      <td>0.0</td>\n",
              "      <td>0.0</td>\n",
              "      <td>0.794</td>\n",
              "    </tr>\n",
              "    <tr>\n",
              "      <th>64</th>\n",
              "      <td>8707</td>\n",
              "      <td>SELECCION GLOBAL</td>\n",
              "      <td>EWP US EQUITY</td>\n",
              "      <td>ISHARES MSCI SPAIN INDEX FD</td>\n",
              "      <td>US</td>\n",
              "      <td>ETFA</td>\n",
              "      <td>NaN</td>\n",
              "      <td>1</td>\n",
              "      <td>NaN</td>\n",
              "      <td>NaN</td>\n",
              "      <td>...</td>\n",
              "      <td>19230.50</td>\n",
              "      <td>3</td>\n",
              "      <td>0</td>\n",
              "      <td>NaN</td>\n",
              "      <td>132690</td>\n",
              "      <td>PROM</td>\n",
              "      <td>US</td>\n",
              "      <td>0.0</td>\n",
              "      <td>0.0</td>\n",
              "      <td>0.297</td>\n",
              "    </tr>\n",
              "    <tr>\n",
              "      <th>5147</th>\n",
              "      <td>8900</td>\n",
              "      <td>SANTA D</td>\n",
              "      <td>GLJCAIU ID</td>\n",
              "      <td>GLG JAPAN COREALPHA GLG JAPAN</td>\n",
              "      <td>IE</td>\n",
              "      <td>CFME</td>\n",
              "      <td>NaN</td>\n",
              "      <td>1</td>\n",
              "      <td>NaN</td>\n",
              "      <td>NaN</td>\n",
              "      <td>...</td>\n",
              "      <td>100721.85</td>\n",
              "      <td>3</td>\n",
              "      <td>0</td>\n",
              "      <td>NaN</td>\n",
              "      <td>56501</td>\n",
              "      <td>PROM</td>\n",
              "      <td>IE</td>\n",
              "      <td>0.0</td>\n",
              "      <td>0.0</td>\n",
              "      <td>0.168</td>\n",
              "    </tr>\n",
              "    <tr>\n",
              "      <th>2331</th>\n",
              "      <td>8294</td>\n",
              "      <td>GLOBAL</td>\n",
              "      <td>ACWI US</td>\n",
              "      <td>ISHARES MSCI ACWI ETF</td>\n",
              "      <td>US</td>\n",
              "      <td>ETFA</td>\n",
              "      <td>NaN</td>\n",
              "      <td>1</td>\n",
              "      <td>NaN</td>\n",
              "      <td>NaN</td>\n",
              "      <td>...</td>\n",
              "      <td>73.76</td>\n",
              "      <td>3</td>\n",
              "      <td>0</td>\n",
              "      <td>NaN</td>\n",
              "      <td>77</td>\n",
              "      <td>PROM</td>\n",
              "      <td>US</td>\n",
              "      <td>0.0</td>\n",
              "      <td>0.0</td>\n",
              "      <td>0.211</td>\n",
              "    </tr>\n",
              "    <tr>\n",
              "      <th>1993</th>\n",
              "      <td>9412</td>\n",
              "      <td>FM BCI NEG DOLAR</td>\n",
              "      <td>GLBACO0429</td>\n",
              "      <td>GLOBAL BANK CORPORATION</td>\n",
              "      <td>PA</td>\n",
              "      <td>BEE</td>\n",
              "      <td>16/04/2029</td>\n",
              "      <td>1</td>\n",
              "      <td>E</td>\n",
              "      <td>NaN</td>\n",
              "      <td>...</td>\n",
              "      <td>NaN</td>\n",
              "      <td>1</td>\n",
              "      <td>360</td>\n",
              "      <td>NC</td>\n",
              "      <td>215</td>\n",
              "      <td>PROM</td>\n",
              "      <td>US</td>\n",
              "      <td>0.0</td>\n",
              "      <td>0.0</td>\n",
              "      <td>1.385</td>\n",
              "    </tr>\n",
              "  </tbody>\n",
              "</table>\n",
              "<p>5 rows × 24 columns</p>\n",
              "</div>"
            ],
            "text/plain": [
              "      run_fondo         nombre_fondo    nemotecnico  \\\n",
              "3735       8823  LOCAL EMERGING DEBT   PEP01000C4G7   \n",
              "64         8707     SELECCION GLOBAL  EWP US EQUITY   \n",
              "5147       8900              SANTA D     GLJCAIU ID   \n",
              "2331       8294               GLOBAL        ACWI US   \n",
              "1993       9412     FM BCI NEG DOLAR     GLBACO0429   \n",
              "\n",
              "                      nombre_emisor pais_emisor tipo_instrumento  \\\n",
              "3735          BANCO CENTRAL DE PERU          PE            BEBCE   \n",
              "64      ISHARES MSCI SPAIN INDEX FD          US             ETFA   \n",
              "5147  GLG JAPAN COREALPHA GLG JAPAN          IE             CFME   \n",
              "2331          ISHARES MSCI ACWI ETF          US             ETFA   \n",
              "1993        GLOBAL BANK CORPORATION          PA              BEE   \n",
              "\n",
              "     fecha_vencimiento_instrumento  situacion_instrumento  \\\n",
              "3735                    12/08/2031                      1   \n",
              "64                             NaN                      1   \n",
              "5147                           NaN                      1   \n",
              "2331                           NaN                      1   \n",
              "1993                    16/04/2029                      1   \n",
              "\n",
              "     clasificacion_riesgo codigo_grupo_empresarial  ...  valor_relevante  \\\n",
              "3735                    A                      NaN  ...              NaN   \n",
              "64                    NaN                      NaN  ...         19230.50   \n",
              "5147                  NaN                      NaN  ...        100721.85   \n",
              "2331                  NaN                      NaN  ...            73.76   \n",
              "1993                    E                      NaN  ...              NaN   \n",
              "\n",
              "     codigo_valorizacion  base_tasa  tipo_interes  \\\n",
              "3735                   1        365            RC   \n",
              "64                     3          0           NaN   \n",
              "5147                   3          0           NaN   \n",
              "2331                   3          0           NaN   \n",
              "1993                   1        360            NC   \n",
              "\n",
              "      valorizacion_al_cierre_en_miles  codigo_moneda_valorizacion  \\\n",
              "3735                              244                         PEN   \n",
              "64                             132690                        PROM   \n",
              "5147                            56501                        PROM   \n",
              "2331                               77                        PROM   \n",
              "1993                              215                        PROM   \n",
              "\n",
              "      codigo_pais_transaccion porcentaje_capital_emisor  \\\n",
              "3735                       PE                       0.0   \n",
              "64                         US                       0.0   \n",
              "5147                       IE                       0.0   \n",
              "2331                       US                       0.0   \n",
              "1993                       US                       0.0   \n",
              "\n",
              "      porcentaje_activos_emisor porcentaje_activos_fondo  \n",
              "3735                        0.0                    0.794  \n",
              "64                          0.0                    0.297  \n",
              "5147                        0.0                    0.168  \n",
              "2331                        0.0                    0.211  \n",
              "1993                        0.0                    1.385  \n",
              "\n",
              "[5 rows x 24 columns]"
            ]
          },
          "metadata": {
            "tags": []
          },
          "execution_count": 33
        }
      ]
    },
    {
      "cell_type": "code",
      "metadata": {
        "id": "pR7L9-CT7Fao",
        "colab_type": "code",
        "colab": {}
      },
      "source": [
        "columns_EXTR = {\n",
        "    'Run Fondo': 'run_fondo',\n",
        "    'Nombre Fondo': 'nombre_fondo',\n",
        "    'FFM_6020100': 'nemotecnico',\n",
        "    'FFM_6020200': 'nombre_emisor',\n",
        "    'FFM_6020300': 'pais_emisor',\n",
        "    'FFM_6020400': 'tipo_instrumento',\n",
        "    'FFM_6020500': 'fecha_vencimiento_instrumento',\n",
        "    'FFM_6020600': 'situacion_instrumento',\n",
        "    'FFM_6020700': 'clasificacion_riesgo',\n",
        "    'FFM_6020800': 'codigo_grupo_empresarial',\n",
        "    'FFM_6020900': 'cantidad_unidades',\n",
        "    'FFM_6021000': 'tipo_unidades',\n",
        "    'FFM_tir_6021111': 'TIR',\n",
        "    'FFM_par_6021111': 'valor_par',\n",
        "    'FFM_rel_6021111': 'valor_relevante',\n",
        "    'FFM_6021112': 'codigo_valorizacion',\n",
        "    'FFM_6021113': 'base_tasa',\n",
        "    'FFM_6021114': 'tipo_interes',\n",
        "    'FFM_6021200': 'valorizacion_al_cierre_en_miles',\n",
        "    'FFM_6021300': 'codigo_moneda_valorizacion',\n",
        "    'FFM_6021400': 'codigo_pais_transaccion',\n",
        "    'FFM_6021511': 'porcentaje_capital_emisor',\n",
        "    'FFM_6021512': 'porcentaje_activos_emisor',\n",
        "    'FFM_6021513': 'porcentaje_activos_fondo'\n",
        "}"
      ],
      "execution_count": 0,
      "outputs": []
    },
    {
      "cell_type": "code",
      "metadata": {
        "id": "8UClmFIf7Far",
        "colab_type": "code",
        "colab": {}
      },
      "source": [
        "columns_NACI = {\n",
        "    'Run Fondo': 'run_fondo',\n",
        "    'Nombre Fondo': 'nombre_fondo',\n",
        "    'FFM_6010100': 'nemotecnico',\n",
        "    'FFM_6010211': 'rut_emisor',\n",
        "    'FFM_6010212': 'digito_verificador_rut_emisor',\n",
        "    'FFM_6010300': 'pais_emisor',\n",
        "    'FFM_6010400': 'tipo_instrumento',\n",
        "    'FFM_6010500': 'fecha_vencimiento_instrumento',\n",
        "    'FFM_6010600': 'situacion_instrumento',\n",
        "    'FFM_6010700': 'clasificacion_riesgo',\n",
        "    'FFM_6010800': 'codigo_grupo_empresarial',\n",
        "    'FFM_6010900': 'cantidad_unidades',\n",
        "    'FFM_6011000': 'tipo_unidades',\n",
        "    'FFM_TIR_6011111': 'TIR',\n",
        "    'FFM_PAR_6011111': 'valor_par',\n",
        "    'FFM_REL_6011111': 'valor_relevante',\n",
        "    'FFM_6011112': 'codigo_valorizacion',\n",
        "    'FFM_6011113': 'base_tasa',\n",
        "    'FFM_6011114': 'tipo_interes',\n",
        "    'FFM_6011200': 'valorizacion_al_cierre_en_miles',\n",
        "    'FFM_6011300': 'codigo_moneda_valorizacion',\n",
        "    'FFM_6011400': 'codigo_pais_transaccion',\n",
        "    'FFM_6011511': 'porcentaje_capital_emisor',\n",
        "    'FFM_6011512': 'porcentaje_activos_emisor',\n",
        "    'FFM_6011513': 'porcentaje_activos_fondo'\n",
        "}"
      ],
      "execution_count": 0,
      "outputs": []
    },
    {
      "cell_type": "code",
      "metadata": {
        "id": "Tw-JO72O7Fau",
        "colab_type": "code",
        "colab": {}
      },
      "source": [
        ""
      ],
      "execution_count": 0,
      "outputs": []
    }
  ]
}