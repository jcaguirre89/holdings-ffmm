{
 "cells": [
  {
   "cell_type": "code",
   "execution_count": 1,
   "metadata": {},
   "outputs": [],
   "source": [
    "import requests\n",
    "import pandas as pd\n",
    "from io import StringIO\n"
   ]
  },
  {
   "cell_type": "code",
   "execution_count": 3,
   "metadata": {},
   "outputs": [],
   "source": [
    "URL = 'http://www.cmfchile.cl/institucional/estadisticas/ffm_download.php'"
   ]
  },
  {
   "cell_type": "code",
   "execution_count": 80,
   "metadata": {},
   "outputs": [],
   "source": [
    "body = {'aa': '2019', 'mm': '07', 'cartera': 'NACI'}\n"
   ]
  },
  {
   "cell_type": "code",
   "execution_count": 81,
   "metadata": {},
   "outputs": [],
   "source": [
    "s = requests.Session()\n",
    "# requests without user-agent in headers are forbidden\n",
    "headers = {'User-Agent': 'Mozilla/5.0 (Macintosh; Intel Mac OS X 10_11_5) AppleWebKit/537.36 (KHTML, like Gecko) Chrome/50.0.2661.102 Safari/537.36'}\n",
    "resp = s.post(URL, data=body, headers=headers)"
   ]
  },
  {
   "cell_type": "code",
   "execution_count": 82,
   "metadata": {},
   "outputs": [],
   "source": [
    "data = resp.content.decode('utf-8-sig')"
   ]
  },
  {
   "cell_type": "code",
   "execution_count": 83,
   "metadata": {},
   "outputs": [],
   "source": [
    "df = pd.read_csv(StringIO(data), sep=';')"
   ]
  },
  {
   "cell_type": "code",
   "execution_count": 84,
   "metadata": {},
   "outputs": [
    {
     "data": {
      "text/plain": [
       "(37156, 25)"
      ]
     },
     "execution_count": 84,
     "metadata": {},
     "output_type": "execute_result"
    }
   ],
   "source": [
    "df.shape"
   ]
  },
  {
   "cell_type": "code",
   "execution_count": 76,
   "metadata": {},
   "outputs": [
    {
     "data": {
      "text/plain": [
       "Run Fondo                          8773\n",
       "Nombre Fondo       ESTRATEGIA CONSERVAD\n",
       "FFM_6020100               VGT US EQUITY\n",
       "FFM_6020200          VANGUARD INFO TECH\n",
       "FFM_6020300                          US\n",
       "FFM_6020400                        ETFA\n",
       "FFM_6020500                         NaN\n",
       "FFM_6020600                           1\n",
       "FFM_6020700                         NaN\n",
       "FFM_6020800                         NaN\n",
       "FFM_6020900                         800\n",
       "FFM_6021000                          CA\n",
       "FFM_tir_6021111                     NaN\n",
       "FFM_par_6021111                     NaN\n",
       "FFM_rel_6021111                  153024\n",
       "FFM_6021112                           3\n",
       "FFM_6021113                           0\n",
       "FFM_6021114                         NaN\n",
       "FFM_6021200                      122419\n",
       "FFM_6021300                        PROM\n",
       "FFM_6021400                          US\n",
       "FFM_6021511                           0\n",
       "FFM_6021512                           0\n",
       "FFM_6021513                       0.574\n",
       "Name: 77, dtype: object"
      ]
     },
     "execution_count": 76,
     "metadata": {},
     "output_type": "execute_result"
    }
   ],
   "source": [
    "df.iloc[77]"
   ]
  },
  {
   "cell_type": "code",
   "execution_count": 78,
   "metadata": {},
   "outputs": [],
   "source": [
    "columns_EXTR = {\n",
    "    'Run Fondo': 'run_fondo',\n",
    "    'Nombre Fondo': 'nombre_fondo',\n",
    "    'FFM_6020100': 'nemotecnico',\n",
    "    'FFM_6020200': 'nombre_emisor',\n",
    "    'FFM_6020300': 'pais_emisor',\n",
    "    'FFM_6020400': 'tipo_instrumento',\n",
    "    'FFM_6020500': 'fecha_vencimiento_instrumento',\n",
    "    'FFM_6020600': 'situacion_instrumento',\n",
    "    'FFM_6020700': 'clasificacion_riesgo',\n",
    "    'FFM_6020800': 'codigo_grupo_empresarial',\n",
    "    'FFM_6020900': 'cantidad_unidades',\n",
    "    'FFM_6021000': 'tipo_unidades',\n",
    "    'FFM_tir_6021111': 'TIR',\n",
    "    'FFM_par_6021111': 'valor_par',\n",
    "    'FFM_rel_6021111': 'valor_relevante',\n",
    "    'FFM_6021112': 'codigo_valorizacion',\n",
    "    'FFM_6021113': 'base_tasa',\n",
    "    'FFM_6021114': 'tipo_interes',\n",
    "    'FFM_6021200': 'valorizacion_al_cierre_en_miles',\n",
    "    'FFM_6021300': 'codigo_moneda_valorizacion',\n",
    "    'FFM_6021400': 'codigo_pais_transaccion',\n",
    "    'FFM_6021511': 'porcentaje_capital_emisor',\n",
    "    'FFM_6021512': 'porcentaje_activos_emisor',\n",
    "    'FFM_6021513': 'porcentaje_activos_fondo'\n",
    "}"
   ]
  },
  {
   "cell_type": "code",
   "execution_count": 71,
   "metadata": {},
   "outputs": [],
   "source": [
    "columns_NACI = {\n",
    "    'Run Fondo': 'run_fondo',\n",
    "    'Nombre Fondo': 'nombre_fondo',\n",
    "    'FFM_6010100': 'nemotecnico',\n",
    "    'FFM_6010211': 'rut_emisor',\n",
    "    'FFM_6010212': 'digito_verificador_rut_emisor',\n",
    "    'FFM_6010300': 'pais_emisor',\n",
    "    'FFM_6010400': 'tipo_instrumento',\n",
    "    'FFM_6010500': 'fecha_vencimiento_instrumento',\n",
    "    'FFM_6010600': 'situacion_instrumento',\n",
    "    'FFM_6010700': 'clasificacion_riesgo',\n",
    "    'FFM_6010800': 'codigo_grupo_empresarial',\n",
    "    'FFM_6010900': 'cantidad_unidades',\n",
    "    'FFM_6011000': 'tipo_unidades',\n",
    "    'FFM_TIR_6011111': 'TIR',\n",
    "    'FFM_PAR_6011111': 'valor_par',\n",
    "    'FFM_REL_6011111': 'valor_relevante',\n",
    "    'FFM_6011112': 'codigo_valorizacion',\n",
    "    'FFM_6011113': 'base_tasa',\n",
    "    'FFM_6011114': 'tipo_interes',\n",
    "    'FFM_6011200': 'valorizacion_al_cierre_en_miles',\n",
    "    'FFM_6011300': 'codigo_moneda_valorizacion',\n",
    "    'FFM_6011400': 'codigo_pais_transaccion',\n",
    "    'FFM_6011511': 'porcentaje_capital_emisor',\n",
    "    'FFM_6011512': 'porcentaje_activos_emisor',\n",
    "    'FFM_6011513': 'porcentaje_activos_fondo'\n",
    "}"
   ]
  }
 ],
 "metadata": {
  "kernelspec": {
   "display_name": "Python 3",
   "language": "python",
   "name": "python3"
  },
  "language_info": {
   "codemirror_mode": {
    "name": "ipython",
    "version": 3
   },
   "file_extension": ".py",
   "mimetype": "text/x-python",
   "name": "python",
   "nbconvert_exporter": "python",
   "pygments_lexer": "ipython3",
   "version": "3.6.8"
  }
 },
 "nbformat": 4,
 "nbformat_minor": 4
}
