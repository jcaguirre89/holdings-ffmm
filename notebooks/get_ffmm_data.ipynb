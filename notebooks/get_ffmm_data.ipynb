{
 "cells": [
  {
   "cell_type": "markdown",
   "metadata": {},
   "source": [
    "## Gameplan\n",
    "1. usar run para linkear conceptual_asset de fintual con holdings\n",
    "2. obtener el id de fintual con el run, en `https://fintual.cl/api/conceptual_assets?run=8648`\n",
    "3. obtener costos de cada serie disponible con el id de conceptual asset, en `https://fintual.cl/api/conceptual_assets/2377/real_assets`\n",
    "4. obtener serie de tiempo de nav con id de real asset, en `https://fintual.cl/api/real_assets/13776/days`"
   ]
  },
  {
   "cell_type": "code",
   "execution_count": 1,
   "metadata": {},
   "outputs": [],
   "source": [
    "import requests"
   ]
  },
  {
   "cell_type": "code",
   "execution_count": 2,
   "metadata": {},
   "outputs": [],
   "source": [
    "URL = 'https://fintual.cl/api/conceptual_assets'"
   ]
  },
  {
   "cell_type": "code",
   "execution_count": null,
   "metadata": {},
   "outputs": [],
   "source": []
  }
 ],
 "metadata": {
  "kernelspec": {
   "display_name": "Python 3",
   "language": "python",
   "name": "python3"
  },
  "language_info": {
   "codemirror_mode": {
    "name": "ipython",
    "version": 3
   },
   "file_extension": ".py",
   "mimetype": "text/x-python",
   "name": "python",
   "nbconvert_exporter": "python",
   "pygments_lexer": "ipython3",
   "version": "3.6.8"
  }
 },
 "nbformat": 4,
 "nbformat_minor": 4
}
